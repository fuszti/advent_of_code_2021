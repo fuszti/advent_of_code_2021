{
  "nbformat": 4,
  "nbformat_minor": 0,
  "metadata": {
    "colab": {
      "name": "aoc21_day_06.ipynb",
      "provenance": [],
      "authorship_tag": "ABX9TyNcmOe14oj/KIEibtyljuzh",
      "include_colab_link": true
    },
    "kernelspec": {
      "name": "python3",
      "display_name": "Python 3"
    },
    "language_info": {
      "name": "python"
    }
  },
  "cells": [
    {
      "cell_type": "markdown",
      "metadata": {
        "id": "view-in-github",
        "colab_type": "text"
      },
      "source": [
        "<a href=\"https://colab.research.google.com/github/fuszti/advent_of_code_2021/blob/main/day_06/day_06.ipynb\" target=\"_parent\"><img src=\"https://colab.research.google.com/assets/colab-badge.svg\" alt=\"Open In Colab\"/></a>"
      ]
    },
    {
      "cell_type": "code",
      "execution_count": 1,
      "metadata": {
        "id": "IO0j2jA1PJq3"
      },
      "outputs": [],
      "source": [
        "import numpy as np"
      ]
    },
    {
      "cell_type": "code",
      "source": [
        "def solve_task_1(input_file_path, number_of_days=80):\n",
        "    fish_timers = read_input_file(input_file_path)\n",
        "    for _ in range(number_of_days):\n",
        "        fish_timers -= 1\n",
        "        fish_timers[fish_timers < 7] %= 7\n",
        "        number_of_zeros = np.sum(fish_timers == 0)\n",
        "        fish_timers = np.concatenate((fish_timers, 9 * np.ones(number_of_zeros)))\n",
        "    return fish_timers[fish_timers < 9].size\n",
        "\n",
        "def read_input_file(input_file_path):\n",
        "    with open(input_file_path) as input_file:\n",
        "        fish_timers = [int(num) for num in input_file.readline().strip().split(\",\")]\n",
        "    return np.array(fish_timers)"
      ],
      "metadata": {
        "id": "gqYApZMuPb8H"
      },
      "execution_count": null,
      "outputs": []
    },
    {
      "cell_type": "code",
      "source": [
        "solve_task_1(\"small_input.txt\")"
      ],
      "metadata": {
        "colab": {
          "base_uri": "https://localhost:8080/"
        },
        "id": "F8c4dX3WP8jm",
        "outputId": "0953aeff-9c1c-4a78-c77e-19b16f24121a"
      },
      "execution_count": null,
      "outputs": [
        {
          "output_type": "execute_result",
          "data": {
            "text/plain": [
              "5934"
            ]
          },
          "metadata": {},
          "execution_count": 33
        }
      ]
    },
    {
      "cell_type": "code",
      "source": [
        "solve_task_1(\"input.txt\")"
      ],
      "metadata": {
        "colab": {
          "base_uri": "https://localhost:8080/"
        },
        "id": "CD7M-t7DQASm",
        "outputId": "eb56f6b4-8f0b-4413-855e-6ac651ee1ed5"
      },
      "execution_count": null,
      "outputs": [
        {
          "output_type": "execute_result",
          "data": {
            "text/plain": [
              "345387"
            ]
          },
          "metadata": {},
          "execution_count": 34
        }
      ]
    },
    {
      "cell_type": "code",
      "source": [
        "from collections import Counter\n",
        "\n",
        "def solve_task_2(input_file_path, number_of_days=256):\n",
        "    counter_to_fish = read_input_file_in_counter(input_file_path)\n",
        "    for _ in range(number_of_days):\n",
        "        counter_to_fish = get_new_state(counter_to_fish)\n",
        "    return sum(counter_to_fish)\n",
        "\n",
        "def read_input_file_in_counter(input_file_path):\n",
        "    with open(input_file_path) as input_file:\n",
        "        fish_timers = [int(num) for num in input_file.readline().strip().split(\",\")]\n",
        "    counter = Counter(fish_timers)\n",
        "    counter_to_fish = [0] * 9\n",
        "    for day, count in counter.items():\n",
        "        counter_to_fish[day] = count\n",
        "    return counter_to_fish\n",
        "\n",
        "def get_new_state(counter_to_fish):\n",
        "    new_state = counter_to_fish[1:]\n",
        "    new_state[6] += counter_to_fish[0]\n",
        "    new_state += [counter_to_fish[0]]\n",
        "    return new_state"
      ],
      "metadata": {
        "id": "QDACL7fiS7Wv"
      },
      "execution_count": 5,
      "outputs": []
    },
    {
      "cell_type": "code",
      "source": [
        "solve_task_2(\"small_input.txt\")"
      ],
      "metadata": {
        "id": "RrPBU_meTQXS",
        "colab": {
          "base_uri": "https://localhost:8080/"
        },
        "outputId": "a517f704-1169-490f-d491-2472a822189d"
      },
      "execution_count": 6,
      "outputs": [
        {
          "output_type": "execute_result",
          "data": {
            "text/plain": [
              "26984457539"
            ]
          },
          "metadata": {},
          "execution_count": 6
        }
      ]
    },
    {
      "cell_type": "code",
      "source": [
        "solve_task_2(\"input.txt\")"
      ],
      "metadata": {
        "colab": {
          "base_uri": "https://localhost:8080/"
        },
        "id": "7etUiPjPHZjw",
        "outputId": "b39b8d0f-dbae-4597-9b7a-f26fc1635d9a"
      },
      "execution_count": 8,
      "outputs": [
        {
          "output_type": "execute_result",
          "data": {
            "text/plain": [
              "1574445493136"
            ]
          },
          "metadata": {},
          "execution_count": 8
        }
      ]
    },
    {
      "cell_type": "code",
      "source": [
        ""
      ],
      "metadata": {
        "id": "BVV__X1rI5mA"
      },
      "execution_count": null,
      "outputs": []
    }
  ]
}