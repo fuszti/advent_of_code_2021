{
  "nbformat": 4,
  "nbformat_minor": 0,
  "metadata": {
    "colab": {
      "name": "aoc21_day_06.ipynb",
      "provenance": [],
      "authorship_tag": "ABX9TyNaIFhB9cPc1r7WO0DU9Wjh",
      "include_colab_link": true
    },
    "kernelspec": {
      "name": "python3",
      "display_name": "Python 3"
    },
    "language_info": {
      "name": "python"
    }
  },
  "cells": [
    {
      "cell_type": "markdown",
      "metadata": {
        "id": "view-in-github",
        "colab_type": "text"
      },
      "source": [
        "<a href=\"https://colab.research.google.com/github/fuszti/advent_of_code_2021/blob/main/day_06/day_06.ipynb\" target=\"_parent\"><img src=\"https://colab.research.google.com/assets/colab-badge.svg\" alt=\"Open In Colab\"/></a>"
      ]
    },
    {
      "cell_type": "code",
      "execution_count": 1,
      "metadata": {
        "id": "IO0j2jA1PJq3"
      },
      "outputs": [],
      "source": [
        "import numpy as np"
      ]
    },
    {
      "cell_type": "code",
      "source": [
        "def solve_task_1(input_file_path, number_of_days=80):\n",
        "    fish_timers = read_input_file(input_file_path)\n",
        "    for _ in range(number_of_days):\n",
        "        fish_timers -= 1\n",
        "        fish_timers[fish_timers < 7] %= 7\n",
        "        number_of_zeros = np.sum(fish_timers == 0)\n",
        "        fish_timers = np.concatenate((fish_timers, 9 * np.ones(number_of_zeros)))\n",
        "    return fish_timers[fish_timers < 9].size\n",
        "\n",
        "def read_input_file(input_file_path):\n",
        "    with open(input_file_path) as input_file:\n",
        "        fish_timers = [int(num) for num in input_file.readline().strip().split(\",\")]\n",
        "    return np.array(fish_timers)"
      ],
      "metadata": {
        "id": "gqYApZMuPb8H"
      },
      "execution_count": 32,
      "outputs": []
    },
    {
      "cell_type": "code",
      "source": [
        "solve_task_1(\"small_input.txt\")"
      ],
      "metadata": {
        "colab": {
          "base_uri": "https://localhost:8080/"
        },
        "id": "F8c4dX3WP8jm",
        "outputId": "0953aeff-9c1c-4a78-c77e-19b16f24121a"
      },
      "execution_count": 33,
      "outputs": [
        {
          "output_type": "execute_result",
          "data": {
            "text/plain": [
              "5934"
            ]
          },
          "metadata": {},
          "execution_count": 33
        }
      ]
    },
    {
      "cell_type": "code",
      "source": [
        "solve_task_1(\"input.txt\")"
      ],
      "metadata": {
        "colab": {
          "base_uri": "https://localhost:8080/"
        },
        "id": "CD7M-t7DQASm",
        "outputId": "eb56f6b4-8f0b-4413-855e-6ac651ee1ed5"
      },
      "execution_count": 34,
      "outputs": [
        {
          "output_type": "execute_result",
          "data": {
            "text/plain": [
              "345387"
            ]
          },
          "metadata": {},
          "execution_count": 34
        }
      ]
    },
    {
      "cell_type": "code",
      "source": [
        "#def solve_task_2(input_file_path):\n",
        "    # #0,#1,#2,#3,#4,#5,#6,#7"
      ],
      "metadata": {
        "id": "QDACL7fiS7Wv"
      },
      "execution_count": null,
      "outputs": []
    },
    {
      "cell_type": "code",
      "source": [
        ""
      ],
      "metadata": {
        "id": "RrPBU_meTQXS"
      },
      "execution_count": null,
      "outputs": []
    }
  ]
}