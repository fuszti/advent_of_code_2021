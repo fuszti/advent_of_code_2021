{
  "nbformat": 4,
  "nbformat_minor": 0,
  "metadata": {
    "colab": {
      "name": "aoc21_day_03.ipynb",
      "provenance": [],
      "collapsed_sections": [],
      "authorship_tag": "ABX9TyOESOT2EYNeSC1RGj8GfCMg",
      "include_colab_link": true
    },
    "kernelspec": {
      "name": "python3",
      "display_name": "Python 3"
    },
    "language_info": {
      "name": "python"
    }
  },
  "cells": [
    {
      "cell_type": "markdown",
      "metadata": {
        "id": "view-in-github",
        "colab_type": "text"
      },
      "source": [
        "<a href=\"https://colab.research.google.com/github/fuszti/advent_of_code_2021/blob/main/day_03/day_03.ipynb\" target=\"_parent\"><img src=\"https://colab.research.google.com/assets/colab-badge.svg\" alt=\"Open In Colab\"/></a>"
      ]
    },
    {
      "cell_type": "code",
      "metadata": {
        "id": "U2fwanrx_v2M"
      },
      "source": [
        "import numpy as np"
      ],
      "execution_count": 1,
      "outputs": []
    },
    {
      "cell_type": "code",
      "metadata": {
        "id": "MSDC63x0AHRw"
      },
      "source": [
        "def solve_task_1(input_file_path):\n",
        "    with open(input_file_path, \"r\") as input_file:\n",
        "        diagnostic_matrix = np.array([list(row.strip()) for row in input_file], dtype=np.float32)\n",
        "    column_means = diagnostic_matrix.mean(axis=0)\n",
        "    gamma_rate_digits = np.around(column_means).astype(np.int32)\n",
        "    epsilon_rate_digits = np.ones_like(column_means, dtype=np.int32) - gamma_rate_digits\n",
        "    gamma_rate_binary = _convert_digits_to_binary(gamma_rate_digits)\n",
        "    epsilon_rate_binary = _convert_digits_to_binary(epsilon_rate_digits)\n",
        "    return int(gamma_rate_binary * epsilon_rate_binary)\n",
        "\n",
        "def _convert_digits_to_binary(digits):\n",
        "    digits_as_str = \"\".join(str(digit) for digit in digits.tolist())\n",
        "    return int(digits_as_str, 2)"
      ],
      "execution_count": 2,
      "outputs": []
    },
    {
      "cell_type": "code",
      "metadata": {
        "colab": {
          "base_uri": "https://localhost:8080/"
        },
        "id": "Hv2Qo4fpA26r",
        "outputId": "d9f77cd0-688b-4df8-f218-b9507c109d4b"
      },
      "source": [
        "solve_task_1(\"small_input.txt\")"
      ],
      "execution_count": 3,
      "outputs": [
        {
          "output_type": "execute_result",
          "data": {
            "text/plain": [
              "198"
            ]
          },
          "metadata": {},
          "execution_count": 3
        }
      ]
    },
    {
      "cell_type": "code",
      "metadata": {
        "colab": {
          "base_uri": "https://localhost:8080/"
        },
        "id": "FDjOT37fA51e",
        "outputId": "85e625e1-f4ee-4606-9f63-ebc598acc026"
      },
      "source": [
        "solve_task_1(\"input.txt\")"
      ],
      "execution_count": 4,
      "outputs": [
        {
          "output_type": "execute_result",
          "data": {
            "text/plain": [
              "3847100"
            ]
          },
          "metadata": {},
          "execution_count": 4
        }
      ]
    },
    {
      "cell_type": "code",
      "metadata": {
        "id": "PUy36iLLGNWK"
      },
      "source": [
        "def solve_task_2(input_file_path):\n",
        "    with open(input_file_path, \"r\") as input_file:\n",
        "        diagnostic_matrix = np.array([list(row.strip()) for row in input_file], dtype=np.float32)\n",
        "    current_matrix = diagnostic_matrix.copy()\n",
        "    dim = 0\n",
        "    while current_matrix.shape[0] > 1:\n",
        "        current_matrix = most_common_filter(current_matrix, dim)\n",
        "        dim += 1\n",
        "    oxygen_generator_rating_digits = current_matrix[0].copy().astype(np.int32)\n",
        "    dim = 0\n",
        "    current_matrix = diagnostic_matrix\n",
        "    while current_matrix.shape[0] > 1:\n",
        "        current_matrix = less_common_filter(current_matrix, dim)\n",
        "        dim += 1\n",
        "    co2_scrubber_rating_digits = current_matrix[0].copy().astype(np.int32)\n",
        "    oxygen_generator_rating = _convert_digits_to_binary(oxygen_generator_rating_digits)\n",
        "    co2_scrubber_rating = _convert_digits_to_binary(co2_scrubber_rating_digits)\n",
        "    return int(oxygen_generator_rating * co2_scrubber_rating)\n",
        "\n",
        "def most_common_filter(matrix, dim):\n",
        "    # around(mean + 1.)-1. correction is necessary, because 0.5 value\n",
        "    return matrix[matrix[:, dim] == np.around(matrix[:, dim].mean()+1.)-1.]\n",
        "\n",
        "def less_common_filter(matrix, dim):\n",
        "    # around(mean + 1.)-1. correction is necessary, because 0.5 value\n",
        "    return matrix[matrix[:, dim] == np.ones(1) - (np.around(matrix[:, dim].mean()+1.)-1.)]"
      ],
      "execution_count": 41,
      "outputs": []
    },
    {
      "cell_type": "code",
      "source": [
        "solve_task_2(\"small_input.txt\")"
      ],
      "metadata": {
        "colab": {
          "base_uri": "https://localhost:8080/"
        },
        "id": "5z0RY_GmO9uK",
        "outputId": "98a933bc-60a3-409f-f0c5-61c680fc3983"
      },
      "execution_count": 42,
      "outputs": [
        {
          "output_type": "execute_result",
          "data": {
            "text/plain": [
              "230"
            ]
          },
          "metadata": {},
          "execution_count": 42
        }
      ]
    },
    {
      "cell_type": "code",
      "source": [
        "solve_task_2(\"input.txt\")"
      ],
      "metadata": {
        "colab": {
          "base_uri": "https://localhost:8080/"
        },
        "id": "Gr3fnOyEPAwx",
        "outputId": "9613886e-36e3-4318-b0d5-ba64c688710d"
      },
      "execution_count": 43,
      "outputs": [
        {
          "output_type": "execute_result",
          "data": {
            "text/plain": [
              "4105235"
            ]
          },
          "metadata": {},
          "execution_count": 43
        }
      ]
    },
    {
      "cell_type": "code",
      "source": [
        ""
      ],
      "metadata": {
        "id": "wRExg0XYSgKY"
      },
      "execution_count": null,
      "outputs": []
    }
  ]
}