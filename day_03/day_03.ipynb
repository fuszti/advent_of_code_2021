{
  "nbformat": 4,
  "nbformat_minor": 0,
  "metadata": {
    "colab": {
      "name": "aoc21_day_03.ipynb",
      "provenance": [],
      "authorship_tag": "ABX9TyPx+jMsjIMxgbWIjhXWBNQj",
      "include_colab_link": true
    },
    "kernelspec": {
      "name": "python3",
      "display_name": "Python 3"
    },
    "language_info": {
      "name": "python"
    }
  },
  "cells": [
    {
      "cell_type": "markdown",
      "metadata": {
        "id": "view-in-github",
        "colab_type": "text"
      },
      "source": [
        "<a href=\"https://colab.research.google.com/github/fuszti/advent_of_code_2021/blob/main/day_03/day_03.ipynb\" target=\"_parent\"><img src=\"https://colab.research.google.com/assets/colab-badge.svg\" alt=\"Open In Colab\"/></a>"
      ]
    },
    {
      "cell_type": "code",
      "metadata": {
        "id": "U2fwanrx_v2M"
      },
      "source": [
        "import numpy as np"
      ],
      "execution_count": 1,
      "outputs": []
    },
    {
      "cell_type": "code",
      "metadata": {
        "id": "MSDC63x0AHRw"
      },
      "source": [
        "def solve_task_1(input_file_path):\n",
        "    with open(input_file_path, \"r\") as input_file:\n",
        "        diagnostic_matrix = np.array([list(row.strip()) for row in input_file], dtype=np.float32)\n",
        "    column_means = diagnostic_matrix.mean(axis=0)\n",
        "    gamma_rate_digits = np.around(column_means).astype(np.int32)\n",
        "    epsilon_rate_digits = np.ones_like(column_means, dtype=np.int32) - gamma_rate_digits\n",
        "    gamma_rate_binary = _convert_digits_to_binary(gamma_rate_digits)\n",
        "    epsilon_rate_binary = _convert_digits_to_binary(epsilon_rate_digits)\n",
        "    return int(gamma_rate_binary * epsilon_rate_binary)\n",
        "\n",
        "def _convert_digits_to_binary(digits):\n",
        "    digits_as_str = \"\".join(str(digit) for digit in digits.tolist())\n",
        "    return int(digits_as_str, 2)"
      ],
      "execution_count": 22,
      "outputs": []
    },
    {
      "cell_type": "code",
      "metadata": {
        "colab": {
          "base_uri": "https://localhost:8080/"
        },
        "id": "Hv2Qo4fpA26r",
        "outputId": "dbdbfcfa-4764-4afd-9423-690d4dff7cc2"
      },
      "source": [
        "solve_task_1(\"small_input.txt\")"
      ],
      "execution_count": 23,
      "outputs": [
        {
          "output_type": "execute_result",
          "data": {
            "text/plain": [
              "198"
            ]
          },
          "metadata": {},
          "execution_count": 23
        }
      ]
    },
    {
      "cell_type": "code",
      "metadata": {
        "colab": {
          "base_uri": "https://localhost:8080/"
        },
        "id": "FDjOT37fA51e",
        "outputId": "83fd16cc-7ad7-448b-b46e-da32688461f9"
      },
      "source": [
        "solve_task_1(\"input.txt\")"
      ],
      "execution_count": 24,
      "outputs": [
        {
          "output_type": "execute_result",
          "data": {
            "text/plain": [
              "3847100"
            ]
          },
          "metadata": {},
          "execution_count": 24
        }
      ]
    },
    {
      "cell_type": "code",
      "metadata": {
        "id": "PUy36iLLGNWK"
      },
      "source": [
        ""
      ],
      "execution_count": null,
      "outputs": []
    }
  ]
}