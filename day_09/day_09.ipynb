{
  "nbformat": 4,
  "nbformat_minor": 0,
  "metadata": {
    "colab": {
      "name": "aoc21_day_09.ipynb",
      "provenance": [],
      "collapsed_sections": [],
      "authorship_tag": "ABX9TyP/ui+d2iJFfKa1RiAUWVRr",
      "include_colab_link": true
    },
    "kernelspec": {
      "name": "python3",
      "display_name": "Python 3"
    },
    "language_info": {
      "name": "python"
    }
  },
  "cells": [
    {
      "cell_type": "markdown",
      "metadata": {
        "id": "view-in-github",
        "colab_type": "text"
      },
      "source": [
        "<a href=\"https://colab.research.google.com/github/fuszti/advent_of_code_2021/blob/main/day_09/day_09.ipynb\" target=\"_parent\"><img src=\"https://colab.research.google.com/assets/colab-badge.svg\" alt=\"Open In Colab\"/></a>"
      ]
    },
    {
      "cell_type": "code",
      "execution_count": 1,
      "metadata": {
        "id": "c-ezHwl4uhxB"
      },
      "outputs": [],
      "source": [
        "import numpy as np"
      ]
    },
    {
      "cell_type": "code",
      "source": [
        "def solve_task_1(input_file_path):\n",
        "    height_map = read_input_file_and_padding(input_file_path)\n",
        "    diff_matrix = get_lowers_point_map(height_map)\n",
        "    height_map_without_padding = height_map[1:-1, 1:-1]\n",
        "    height_map_without_padding[diff_matrix < 1] = 0\n",
        "    return np.sum(height_map_without_padding + diff_matrix)\n",
        "\n",
        "\n",
        "def read_input_file_and_padding(input_file_path):\n",
        "    heights = []\n",
        "    with open(input_file_path) as input_file:\n",
        "        for line in input_file:\n",
        "            if not heights:\n",
        "                heights = [[10] * (len(line.strip()) + 2)]\n",
        "            heights.append([10] + [int(height) for height in line.strip()] + [10])\n",
        "        heights.append([10] * (len(line.strip()) + 2))\n",
        "    return np.array(heights)\n",
        "\n",
        "def get_lowers_point_map(height_map):\n",
        "    left_diff = height_map[:, 1:] - height_map[:, :-1]\n",
        "    left_diff[left_diff > 0] = 1\n",
        "    left_diff[left_diff < 0] = -1\n",
        "    left_diff = left_diff[1:-1, :-1]\n",
        "    \n",
        "    right_diff = height_map[:, :-1] - height_map[:, 1:]\n",
        "    right_diff[right_diff > 0] = 1\n",
        "    right_diff[right_diff < 0] = -1\n",
        "    right_diff = right_diff[1:-1, 1:]\n",
        "\n",
        "    up_diff = height_map[1:, :] - height_map[:-1, :]\n",
        "    up_diff[up_diff > 0] = 1\n",
        "    up_diff[up_diff < 0] = -1\n",
        "    up_diff = up_diff[:-1, 1:-1]\n",
        "\n",
        "    down_diff = height_map[:-1, :] - height_map[1:, :]\n",
        "    down_diff[down_diff > 0] = 1\n",
        "    down_diff[down_diff < 0] = -1\n",
        "    down_diff = down_diff[1:, 1:-1]\n",
        "    diff_matrix = left_diff + right_diff + up_diff + down_diff\n",
        "    diff_matrix[diff_matrix > -4] = 0\n",
        "    diff_matrix[diff_matrix == -4] = 1\n",
        "    return diff_matrix"
      ],
      "metadata": {
        "id": "zvFJuYJNumMm"
      },
      "execution_count": 27,
      "outputs": []
    },
    {
      "cell_type": "code",
      "source": [
        "solve_task_1(\"small_input.txt\")"
      ],
      "metadata": {
        "colab": {
          "base_uri": "https://localhost:8080/"
        },
        "id": "5zlUmr8Uvh7U",
        "outputId": "6ee82051-ba03-4d99-c8b9-9c2239672a73"
      },
      "execution_count": 28,
      "outputs": [
        {
          "output_type": "execute_result",
          "data": {
            "text/plain": [
              "15"
            ]
          },
          "metadata": {},
          "execution_count": 28
        }
      ]
    },
    {
      "cell_type": "code",
      "source": [
        "solve_task_1(\"input.txt\")"
      ],
      "metadata": {
        "id": "qI37eclVvkie",
        "colab": {
          "base_uri": "https://localhost:8080/"
        },
        "outputId": "cc06cbc1-d7b8-49bb-ed3d-f0364889b582"
      },
      "execution_count": 29,
      "outputs": [
        {
          "output_type": "execute_result",
          "data": {
            "text/plain": [
              "607"
            ]
          },
          "metadata": {},
          "execution_count": 29
        }
      ]
    },
    {
      "cell_type": "code",
      "source": [
        "def solve_task_2(input_file_path):\n",
        "    height_map = read_input_file_and_padding(input_file_path)\n",
        "    lowest_point_map = get_lowers_point_map(height_map)\n",
        "    height_map[height_map < 9] = 0\n",
        "    lowest_point_map = np.pad(lowest_point_map, (1, 1), constant_values=10)\n",
        "    basin_sizes = []\n",
        "    lowest_points_x, lowest_points_y = np.where(lowest_point_map == 1)\n",
        "    lowest_point_map[lowest_point_map == 1] = 0 \n",
        "    lowest_point_map += height_map\n",
        "    for x, y in zip(lowest_points_x, lowest_points_y):\n",
        "        basin_sizes.append(calc_basin_size(x, y, lowest_point_map.copy()))\n",
        "    basin_sizes.sort()\n",
        "    return basin_sizes[-3] * basin_sizes[-2] * basin_sizes[-1]\n",
        "\n",
        "def calc_basin_size(x, y, reached_point_map):\n",
        "    if reached_point_map[x, y] > 0:\n",
        "        return 0\n",
        "    else:\n",
        "        reached_point_map[x, y] += 1\n",
        "        count_of_reached_positions = 1\n",
        "        count_of_reached_positions += calc_basin_size(x + 1, y, reached_point_map)\n",
        "        count_of_reached_positions += calc_basin_size(x - 1, y, reached_point_map)\n",
        "        count_of_reached_positions += calc_basin_size(x, y + 1, reached_point_map)\n",
        "        count_of_reached_positions += calc_basin_size(x, y - 1, reached_point_map)\n",
        "        return count_of_reached_positions"
      ],
      "metadata": {
        "id": "dABnWGXNli3_"
      },
      "execution_count": 47,
      "outputs": []
    },
    {
      "cell_type": "code",
      "source": [
        "solve_task_2(\"small_input.txt\")"
      ],
      "metadata": {
        "colab": {
          "base_uri": "https://localhost:8080/"
        },
        "id": "qMGk_gJvoFtU",
        "outputId": "2228e05c-415b-4a31-949f-d800a784c7d0"
      },
      "execution_count": 48,
      "outputs": [
        {
          "output_type": "execute_result",
          "data": {
            "text/plain": [
              "1134"
            ]
          },
          "metadata": {},
          "execution_count": 48
        }
      ]
    },
    {
      "cell_type": "code",
      "source": [
        "solve_task_2(\"input.txt\")"
      ],
      "metadata": {
        "colab": {
          "base_uri": "https://localhost:8080/"
        },
        "id": "zAX0RstaoIUW",
        "outputId": "0cbb15de-a5da-49fa-fbf0-12e7ba1e49d0"
      },
      "execution_count": 49,
      "outputs": [
        {
          "output_type": "execute_result",
          "data": {
            "text/plain": [
              "900864"
            ]
          },
          "metadata": {},
          "execution_count": 49
        }
      ]
    },
    {
      "cell_type": "code",
      "source": [
        ""
      ],
      "metadata": {
        "id": "elay9DIgrpui"
      },
      "execution_count": null,
      "outputs": []
    }
  ]
}