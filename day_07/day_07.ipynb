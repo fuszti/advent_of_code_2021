{
  "nbformat": 4,
  "nbformat_minor": 0,
  "metadata": {
    "colab": {
      "name": "aoc21_day_07.ipynb",
      "provenance": [],
      "authorship_tag": "ABX9TyNQUkD/c51/3+gzMYc/+lFv",
      "include_colab_link": true
    },
    "kernelspec": {
      "name": "python3",
      "display_name": "Python 3"
    },
    "language_info": {
      "name": "python"
    },
    "accelerator": "GPU"
  },
  "cells": [
    {
      "cell_type": "markdown",
      "metadata": {
        "id": "view-in-github",
        "colab_type": "text"
      },
      "source": [
        "<a href=\"https://colab.research.google.com/github/fuszti/advent_of_code_2021/blob/main/day_07/day_07.ipynb\" target=\"_parent\"><img src=\"https://colab.research.google.com/assets/colab-badge.svg\" alt=\"Open In Colab\"/></a>"
      ]
    },
    {
      "cell_type": "code",
      "execution_count": 24,
      "metadata": {
        "id": "608PmN4OMTsA"
      },
      "outputs": [],
      "source": [
        "import torch\n",
        "import tqdm"
      ]
    },
    {
      "cell_type": "code",
      "source": [
        "def solve_task_1(input_file_path):\n",
        "    horizontal_positions = read_input_file(input_file_path)\n",
        "    common_level = torch.tensor(5.0, requires_grad=True)\n",
        "    lambda1 = lambda step: 0.65 ** (step // 100)  \n",
        "    optimizer = torch.optim.Adam([common_level], lr=0.01)\n",
        "    scheduler = torch.optim.lr_scheduler.LambdaLR(optimizer, lr_lambda=lambda1)\n",
        "    for _ in tqdm.tqdm(range(500000)):\n",
        "        loss = torch.sum(torch.abs(horizontal_positions - common_level))\n",
        "        optimizer.zero_grad()\n",
        "        loss.backward()\n",
        "        optimizer.step()\n",
        "        scheduler.step()\n",
        "    round_common_level = torch.round(common_level)\n",
        "    smaller_common_level = round_common_level - 1\n",
        "    bigger_common_level = round_common_level + 1\n",
        "    value_of_round = torch.sum(torch.abs(horizontal_positions - common_level))\n",
        "    value_of_smaller= torch.sum(torch.abs(horizontal_positions - smaller_common_level))\n",
        "    value_of_bigger = torch.sum(torch.abs(horizontal_positions - bigger_common_level))\n",
        "    common_levels = [round_common_level, smaller_common_level, bigger_common_level]\n",
        "    optimal_fuel = torch.min(torch.tensor([value_of_round, value_of_smaller, value_of_bigger]))\n",
        "    return optimal_fuel\n",
        "\n",
        "def solve_task_1_precisely(input_file_path):\n",
        "    horizontal_positions = read_input_file(input_file_path)\n",
        "    possible_values = torch.tensor(range(horizontal_positions.max().item() + 1), dtype=torch.int64)\n",
        "    possible_values_as_matrix = possible_values.unsqueeze(0).t().repeat((1, horizontal_positions.shape[0]))\n",
        "    losses = torch.sum(torch.abs(possible_values_as_matrix - horizontal_positions), axis=1)\n",
        "    return losses.min().item()\n",
        "\n",
        "def read_input_file(input_file_path):\n",
        "    with open(input_file_path) as input_file:\n",
        "        horizontal_positions = [int(num) for num in input_file.readline().strip().split(\",\")]\n",
        "    return torch.tensor(horizontal_positions, dtype=torch.int64)"
      ],
      "metadata": {
        "id": "gzodXC3aMYX6"
      },
      "execution_count": 76,
      "outputs": []
    },
    {
      "cell_type": "code",
      "source": [
        "#solve_task_1(\"small_input.txt\") # the naive optimezer works on the small input\n",
        "solve_task_1_precisely(\"small_input.txt\")"
      ],
      "metadata": {
        "colab": {
          "base_uri": "https://localhost:8080/"
        },
        "id": "GU-rfJSCN1VP",
        "outputId": "ce5ee9d9-ee20-401c-838a-683b16d5d197"
      },
      "execution_count": 70,
      "outputs": [
        {
          "output_type": "execute_result",
          "data": {
            "text/plain": [
              "37"
            ]
          },
          "metadata": {},
          "execution_count": 70
        }
      ]
    },
    {
      "cell_type": "code",
      "source": [
        "solve_task_1_precisely(\"input.txt\")"
      ],
      "metadata": {
        "id": "JHCp1l-wN3Px",
        "colab": {
          "base_uri": "https://localhost:8080/"
        },
        "outputId": "d876d5f0-e054-4658-8bdf-10583c2acf38"
      },
      "execution_count": 71,
      "outputs": [
        {
          "output_type": "execute_result",
          "data": {
            "text/plain": [
              "336131"
            ]
          },
          "metadata": {},
          "execution_count": 71
        }
      ]
    },
    {
      "cell_type": "code",
      "source": [
        "def solve_task_2(input_file_path):\n",
        "    horizontal_positions = read_input_file(input_file_path)\n",
        "    possible_values = torch.tensor(range(horizontal_positions.max().item() + 1), dtype=torch.int64)\n",
        "    possible_values_as_matrix = possible_values.unsqueeze(0).t().repeat((1, horizontal_positions.shape[0]))\n",
        "    horizontal_distances = torch.abs(possible_values_as_matrix - horizontal_positions)\n",
        "    fuel_costs = horizontal_distances.apply_(lambda n: (n*(n+1))/2)\n",
        "    full_costs = fuel_costs.sum(axis=1)\n",
        "    return full_costs.min().item()"
      ],
      "metadata": {
        "id": "jorfmP7ibsXQ"
      },
      "execution_count": 73,
      "outputs": []
    },
    {
      "cell_type": "code",
      "source": [
        "solve_task_2(\"small_input.txt\")"
      ],
      "metadata": {
        "colab": {
          "base_uri": "https://localhost:8080/"
        },
        "id": "YzbRgVCamCOJ",
        "outputId": "0064db9b-94dc-4b96-a3b7-950a9007e8d1"
      },
      "execution_count": 74,
      "outputs": [
        {
          "output_type": "execute_result",
          "data": {
            "text/plain": [
              "168"
            ]
          },
          "metadata": {},
          "execution_count": 74
        }
      ]
    },
    {
      "cell_type": "code",
      "source": [
        "solve_task_2(\"input.txt\")"
      ],
      "metadata": {
        "colab": {
          "base_uri": "https://localhost:8080/"
        },
        "id": "EPxI-28cmG-q",
        "outputId": "e2097b2b-f11b-421c-a839-1b8f9edbebad"
      },
      "execution_count": 75,
      "outputs": [
        {
          "output_type": "execute_result",
          "data": {
            "text/plain": [
              "92676646"
            ]
          },
          "metadata": {},
          "execution_count": 75
        }
      ]
    },
    {
      "cell_type": "code",
      "source": [
        ""
      ],
      "metadata": {
        "id": "JevAdUM-mQug"
      },
      "execution_count": null,
      "outputs": []
    }
  ]
}