{
  "nbformat": 4,
  "nbformat_minor": 0,
  "metadata": {
    "colab": {
      "name": "aoc21_day_04.ipynb",
      "provenance": [],
      "authorship_tag": "ABX9TyMRBClJofFcXcZ1F6pcaNs1",
      "include_colab_link": true
    },
    "kernelspec": {
      "name": "python3",
      "display_name": "Python 3"
    },
    "language_info": {
      "name": "python"
    }
  },
  "cells": [
    {
      "cell_type": "markdown",
      "metadata": {
        "id": "view-in-github",
        "colab_type": "text"
      },
      "source": [
        "<a href=\"https://colab.research.google.com/github/fuszti/advent_of_code_2021/blob/main/day_04/day_04.ipynb\" target=\"_parent\"><img src=\"https://colab.research.google.com/assets/colab-badge.svg\" alt=\"Open In Colab\"/></a>"
      ]
    },
    {
      "cell_type": "code",
      "execution_count": 1,
      "metadata": {
        "id": "mC3DS069UFyX"
      },
      "outputs": [],
      "source": [
        "import numpy as np"
      ]
    },
    {
      "cell_type": "code",
      "source": [
        "def solve_task_1(input_file_path):\n",
        "    random_numbers, bingo_boards = read_input_file(input_file_path)\n",
        "    denoted_positions = np.zeros_like(bingo_boards)\n",
        "    for number in random_numbers:\n",
        "        denoted_positions |= bingo_boards == number\n",
        "        row_sum_on_boards = denoted_positions.sum(axis=2)\n",
        "        column_sum_on_boards = denoted_positions.sum(axis=1)\n",
        "        if np.any(row_sum_on_boards == 5) or np.any(column_sum_on_boards == 5):\n",
        "            row_winner_board = np.where(row_sum_on_boards == 5)[0]\n",
        "            column_winner_board = np.where(column_sum_on_boards == 5)[0]\n",
        "            if row_winner_board.size:\n",
        "                winner_board = row_winner_board[0].item()\n",
        "            else:\n",
        "                winner_board = column_winner_board[0].item()\n",
        "            boards_masked_denoted_nums = bingo_boards[winner_board][~denoted_positions[winner_board].astype(np.bool)]\n",
        "            return number * boards_masked_denoted_nums.sum()\n",
        "\n",
        "def read_input_file(input_file_path):\n",
        "    bingo_board_list = []\n",
        "    random_numbers = []\n",
        "    new_board = []\n",
        "    with open(input_file_path, \"r\") as input_file:\n",
        "        for line_number, line in enumerate(input_file):\n",
        "            line = line.strip()\n",
        "            if line_number == 0:\n",
        "                random_numbers = [int(num) for num in line.split(\",\")]\n",
        "            elif line == \"\":\n",
        "                if len(new_board):\n",
        "                    bingo_board_list.append(new_board)\n",
        "                new_board = []\n",
        "            else:\n",
        "                new_board.append([int(num) for num in line.split(\" \") if num != \"\"])\n",
        "    bingo_board_list.append(new_board)\n",
        "    bingo_boards = np.array(bingo_board_list)\n",
        "    return random_numbers, bingo_boards"
      ],
      "metadata": {
        "id": "ggF6C8CWU-jp"
      },
      "execution_count": 34,
      "outputs": []
    },
    {
      "cell_type": "code",
      "source": [
        "solve_task_1(\"small_input.txt\")"
      ],
      "metadata": {
        "colab": {
          "base_uri": "https://localhost:8080/"
        },
        "id": "RDlpJOrcapWK",
        "outputId": "01266df3-0ec4-433c-90a0-e19c0cb49d78"
      },
      "execution_count": 35,
      "outputs": [
        {
          "output_type": "execute_result",
          "data": {
            "text/plain": [
              "4512"
            ]
          },
          "metadata": {},
          "execution_count": 35
        }
      ]
    },
    {
      "cell_type": "code",
      "source": [
        "solve_task_1(\"input.txt\")"
      ],
      "metadata": {
        "colab": {
          "base_uri": "https://localhost:8080/"
        },
        "id": "GohQcXXJardM",
        "outputId": "4319d3ee-7582-453e-bc8b-c7b5175b455b"
      },
      "execution_count": 37,
      "outputs": [
        {
          "output_type": "execute_result",
          "data": {
            "text/plain": [
              "21607"
            ]
          },
          "metadata": {},
          "execution_count": 37
        }
      ]
    },
    {
      "cell_type": "code",
      "source": [
        "def solve_task_2(input_file_path):\n",
        "    random_numbers, bingo_boards = read_input_file(input_file_path)\n",
        "    denoted_positions = np.zeros_like(bingo_boards)\n",
        "    been_winner_boards = np.zeros(bingo_boards.shape[0], dtype=np.int64)\n",
        "    for number in random_numbers:\n",
        "        denoted_positions |= bingo_boards == number\n",
        "        row_sum_on_boards = denoted_positions.sum(axis=2)\n",
        "        row_sum_on_boards[row_sum_on_boards < 5] = 0\n",
        "        winner_rows_on_boards = row_sum_on_boards.sum(axis=1) >= 5\n",
        "        column_sum_on_boards = denoted_positions.sum(axis=1)\n",
        "        column_sum_on_boards[column_sum_on_boards < 5] = 0\n",
        "        winner_columns_on_boards = column_sum_on_boards.sum(axis=1) >= 5\n",
        "        if np.any(winner_rows_on_boards) or np.any(winner_columns_on_boards):\n",
        "            if np.all(been_winner_boards | winner_rows_on_boards | winner_columns_on_boards):\n",
        "                last_row_winner_board = np.where(been_winner_boards - winner_rows_on_boards == -1)[0]\n",
        "                last_column_winner_board = np.where(been_winner_boards - winner_columns_on_boards == -1)[0]\n",
        "                if last_row_winner_board.size:\n",
        "                    winner_board = last_row_winner_board[0].item()\n",
        "                else:\n",
        "                    winner_board = last_column_winner_board[0].item()\n",
        "                boards_masked_denoted_nums = bingo_boards[winner_board][~denoted_positions[winner_board].astype(np.bool)]\n",
        "                return number * boards_masked_denoted_nums.sum()\n",
        "            been_winner_boards |= winner_rows_on_boards | winner_columns_on_boards"
      ],
      "metadata": {
        "id": "JMLFp3qHeSpK"
      },
      "execution_count": 70,
      "outputs": []
    },
    {
      "cell_type": "code",
      "source": [
        "solve_task_2(\"small_input.txt\")"
      ],
      "metadata": {
        "colab": {
          "base_uri": "https://localhost:8080/"
        },
        "id": "xy4JTf_bmpux",
        "outputId": "9a05f28f-9202-402e-8557-bcca2c116b40"
      },
      "execution_count": 71,
      "outputs": [
        {
          "output_type": "execute_result",
          "data": {
            "text/plain": [
              "1924"
            ]
          },
          "metadata": {},
          "execution_count": 71
        }
      ]
    },
    {
      "cell_type": "code",
      "source": [
        "solve_task_2(\"input.txt\")"
      ],
      "metadata": {
        "colab": {
          "base_uri": "https://localhost:8080/"
        },
        "id": "wZh5WvpVmsIu",
        "outputId": "c1ab241e-ec54-4822-b620-5d8a188c5c5c"
      },
      "execution_count": 72,
      "outputs": [
        {
          "output_type": "execute_result",
          "data": {
            "text/plain": [
              "19012"
            ]
          },
          "metadata": {},
          "execution_count": 72
        }
      ]
    },
    {
      "cell_type": "code",
      "source": [
        ""
      ],
      "metadata": {
        "id": "_IuxwvxmqemP"
      },
      "execution_count": null,
      "outputs": []
    }
  ]
}