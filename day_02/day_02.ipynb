{
  "nbformat": 4,
  "nbformat_minor": 0,
  "metadata": {
    "colab": {
      "name": "Untitled9.ipynb",
      "provenance": [],
      "authorship_tag": "ABX9TyNuBS7FFxMmzarYIqvQ6twe",
      "include_colab_link": true
    },
    "kernelspec": {
      "name": "python3",
      "display_name": "Python 3"
    },
    "language_info": {
      "name": "python"
    }
  },
  "cells": [
    {
      "cell_type": "markdown",
      "metadata": {
        "id": "view-in-github",
        "colab_type": "text"
      },
      "source": [
        "<a href=\"https://colab.research.google.com/github/fuszti/advent_of_code_2021/blob/main/day_02/day_02.ipynb\" target=\"_parent\"><img src=\"https://colab.research.google.com/assets/colab-badge.svg\" alt=\"Open In Colab\"/></a>"
      ]
    },
    {
      "cell_type": "code",
      "metadata": {
        "id": "Te1mzjCiY0OY"
      },
      "source": [
        "import numpy as np\n",
        "import pandas as pd"
      ],
      "execution_count": 3,
      "outputs": []
    },
    {
      "cell_type": "markdown",
      "metadata": {
        "id": "Yf1hNfggZqnL"
      },
      "source": [
        "# Day 02\n",
        "## Task 1"
      ]
    },
    {
      "cell_type": "code",
      "metadata": {
        "id": "SQfcj51tZfps"
      },
      "source": [
        "def solve_task_1(input_file_path, commands):\n",
        "    happened_commands = pd.read_csv(input_file_path, header=None, names=[\"command_name\", \"step_num\"], delimiter=\" \")\n",
        "    happened_commands_with_changes = happened_commands.merge(commands, how=\"inner\", on=\"command_name\")\n",
        "    aggregated_horizontal_step = np.sum((happened_commands_with_changes[\"step_num\"] * happened_commands_with_changes[\"horizontal_step\"]).values)\n",
        "    aggregated_depth_change = np.sum((happened_commands_with_changes[\"step_num\"] * happened_commands_with_changes[\"depth_change\"]).values)\n",
        "    return aggregated_horizontal_step * aggregated_depth_change"
      ],
      "execution_count": null,
      "outputs": []
    },
    {
      "cell_type": "code",
      "metadata": {
        "id": "dZ26RemQaEFl"
      },
      "source": [
        "commands= pd.DataFrame({\"command_name\": [\"forward\", \"up\", \"down\"], \"horizontal_step\": [1, 0, 0], \"depth_change\": [0, -1, 1]})"
      ],
      "execution_count": null,
      "outputs": []
    },
    {
      "cell_type": "code",
      "metadata": {
        "colab": {
          "base_uri": "https://localhost:8080/"
        },
        "id": "3vCAMFIlauYO",
        "outputId": "d68eae15-57b4-4061-a434-c113b787109a"
      },
      "source": [
        "solve_task_1(\"small_input.txt\", commands)"
      ],
      "execution_count": null,
      "outputs": [
        {
          "output_type": "execute_result",
          "data": {
            "text/plain": [
              "150"
            ]
          },
          "metadata": {},
          "execution_count": 44
        }
      ]
    },
    {
      "cell_type": "code",
      "metadata": {
        "colab": {
          "base_uri": "https://localhost:8080/"
        },
        "id": "hXRIdEf9azKq",
        "outputId": "6d705666-1f05-44eb-d770-d6333ba7cdde"
      },
      "source": [
        "solve_task_1(\"input.txt\", commands)"
      ],
      "execution_count": null,
      "outputs": [
        {
          "output_type": "execute_result",
          "data": {
            "text/plain": [
              "2039256"
            ]
          },
          "metadata": {},
          "execution_count": 45
        }
      ]
    },
    {
      "cell_type": "markdown",
      "metadata": {
        "id": "pdNrqPVT0IOS"
      },
      "source": [
        "## Task 2"
      ]
    },
    {
      "cell_type": "code",
      "metadata": {
        "id": "svF75u6zjN00"
      },
      "source": [
        "def solve_task_2(input_file_path, commands):\n",
        "    happened_commands = pd.read_csv(input_file_path, header=None, names=[\"command_name\", \"step_num\"], delimiter=\" \")\n",
        "    happened_commands_with_changes = happened_commands.merge(commands, how=\"left\", on=\"command_name\")\n",
        "    real_aim_changes = (happened_commands_with_changes[\"aim_change\"] * happened_commands_with_changes[\"step_num\"]).values\n",
        "    tril_aim_changes_as_matrix = np.tril(np.repeat(np.expand_dims(real_aim_changes, 0), real_aim_changes.shape[0], axis=0))\n",
        "    current_aims = tril_aim_changes_as_matrix.sum(axis=1)\n",
        "    aggregated_horizontal_step = np.sum((happened_commands_with_changes[\"step_num\"] * happened_commands_with_changes[\"horizontal_step\"]).values)\n",
        "    aggregated_depth_change = np.sum(happened_commands_with_changes[\"step_num\"] * happened_commands_with_changes[\"depth_change\"].values * current_aims)\n",
        "    return aggregated_depth_change * aggregated_horizontal_step"
      ],
      "execution_count": 60,
      "outputs": []
    },
    {
      "cell_type": "code",
      "metadata": {
        "id": "R5I2zsO41tDS"
      },
      "source": [
        "commands= pd.DataFrame({\"command_name\": [\"forward\", \"up\", \"down\"], \"horizontal_step\": [1, 0, 0], \"depth_change\": [1, 0, 0],\n",
        "                        \"aim_change\": [0, -1, 1]})"
      ],
      "execution_count": 61,
      "outputs": []
    },
    {
      "cell_type": "code",
      "metadata": {
        "colab": {
          "base_uri": "https://localhost:8080/"
        },
        "id": "RDdrnkg65RCa",
        "outputId": "652d1104-ee12-4818-8f7a-3bfef9f4db30"
      },
      "source": [
        "solve_task_2(\"small_input.txt\", commands)"
      ],
      "execution_count": 62,
      "outputs": [
        {
          "output_type": "execute_result",
          "data": {
            "text/plain": [
              "900"
            ]
          },
          "metadata": {},
          "execution_count": 62
        }
      ]
    },
    {
      "cell_type": "code",
      "metadata": {
        "id": "aq1ThAkf5ddn",
        "colab": {
          "base_uri": "https://localhost:8080/"
        },
        "outputId": "6bb586d3-869d-40a3-aec2-345056d7f367"
      },
      "source": [
        "solve_task_2(\"input.txt\", commands)"
      ],
      "execution_count": 63,
      "outputs": [
        {
          "output_type": "execute_result",
          "data": {
            "text/plain": [
              "1856459736"
            ]
          },
          "metadata": {},
          "execution_count": 63
        }
      ]
    },
    {
      "cell_type": "code",
      "metadata": {
        "id": "2WqqCq2Y7zLu"
      },
      "source": [
        ""
      ],
      "execution_count": null,
      "outputs": []
    }
  ]
}