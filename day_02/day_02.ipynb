{
  "nbformat": 4,
  "nbformat_minor": 0,
  "metadata": {
    "colab": {
      "name": "Untitled9.ipynb",
      "provenance": [],
      "authorship_tag": "ABX9TyPLWILQ9hg4gEM5XVHBasF0",
      "include_colab_link": true
    },
    "kernelspec": {
      "name": "python3",
      "display_name": "Python 3"
    },
    "language_info": {
      "name": "python"
    }
  },
  "cells": [
    {
      "cell_type": "markdown",
      "metadata": {
        "id": "view-in-github",
        "colab_type": "text"
      },
      "source": [
        "<a href=\"https://colab.research.google.com/github/fuszti/advent_of_code_2021/blob/main/day_02/day_02.ipynb\" target=\"_parent\"><img src=\"https://colab.research.google.com/assets/colab-badge.svg\" alt=\"Open In Colab\"/></a>"
      ]
    },
    {
      "cell_type": "code",
      "metadata": {
        "id": "Te1mzjCiY0OY"
      },
      "source": [
        "import numpy as np\n",
        "import pandas as pd"
      ],
      "execution_count": 38,
      "outputs": []
    },
    {
      "cell_type": "markdown",
      "metadata": {
        "id": "Yf1hNfggZqnL"
      },
      "source": [
        "# Day 02\n",
        "## Task 1"
      ]
    },
    {
      "cell_type": "code",
      "metadata": {
        "id": "SQfcj51tZfps"
      },
      "source": [
        "def solve_task_1(input_file_path, commands):\n",
        "    happened_commands = pd.read_csv(input_file_path, header=None, names=[\"command_name\", \"step_num\"], delimiter=\" \")\n",
        "    happened_commands_with_changes = happened_commands.merge(commands, how=\"inner\", on=\"command_name\")\n",
        "    aggregated_horizontal_step = np.sum((happened_commands_with_changes[\"step_num\"] * happened_commands_with_changes[\"horizontal_step\"]).values)\n",
        "    aggregated_depth_change = np.sum((happened_commands_with_changes[\"step_num\"] * happened_commands_with_changes[\"depth_change\"]).values)\n",
        "    return aggregated_horizontal_step * aggregated_depth_change"
      ],
      "execution_count": 42,
      "outputs": []
    },
    {
      "cell_type": "code",
      "metadata": {
        "id": "dZ26RemQaEFl"
      },
      "source": [
        "commands= pd.DataFrame({\"command_name\": [\"forward\", \"up\", \"down\"], \"horizontal_step\": [1, 0, 0], \"depth_change\": [0, -1, 1]})"
      ],
      "execution_count": 43,
      "outputs": []
    },
    {
      "cell_type": "code",
      "metadata": {
        "colab": {
          "base_uri": "https://localhost:8080/"
        },
        "id": "3vCAMFIlauYO",
        "outputId": "d68eae15-57b4-4061-a434-c113b787109a"
      },
      "source": [
        "solve_task_1(\"small_input.txt\", commands)"
      ],
      "execution_count": 44,
      "outputs": [
        {
          "output_type": "execute_result",
          "data": {
            "text/plain": [
              "150"
            ]
          },
          "metadata": {},
          "execution_count": 44
        }
      ]
    },
    {
      "cell_type": "code",
      "metadata": {
        "colab": {
          "base_uri": "https://localhost:8080/"
        },
        "id": "hXRIdEf9azKq",
        "outputId": "6d705666-1f05-44eb-d770-d6333ba7cdde"
      },
      "source": [
        "solve_task_1(\"input.txt\", commands)"
      ],
      "execution_count": 45,
      "outputs": [
        {
          "output_type": "execute_result",
          "data": {
            "text/plain": [
              "2039256"
            ]
          },
          "metadata": {},
          "execution_count": 45
        }
      ]
    },
    {
      "cell_type": "code",
      "metadata": {
        "id": "svF75u6zjN00"
      },
      "source": [
        ""
      ],
      "execution_count": null,
      "outputs": []
    }
  ]
}