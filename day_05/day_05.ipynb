{
  "nbformat": 4,
  "nbformat_minor": 0,
  "metadata": {
    "colab": {
      "name": "aoc21_day_05.ipynb",
      "provenance": [],
      "authorship_tag": "ABX9TyOLuhtzazMmE+w0mDN0IQaf",
      "include_colab_link": true
    },
    "kernelspec": {
      "name": "python3",
      "display_name": "Python 3"
    },
    "language_info": {
      "name": "python"
    }
  },
  "cells": [
    {
      "cell_type": "markdown",
      "metadata": {
        "id": "view-in-github",
        "colab_type": "text"
      },
      "source": [
        "<a href=\"https://colab.research.google.com/github/fuszti/advent_of_code_2021/blob/main/day_05/day_05.ipynb\" target=\"_parent\"><img src=\"https://colab.research.google.com/assets/colab-badge.svg\" alt=\"Open In Colab\"/></a>"
      ]
    },
    {
      "cell_type": "code",
      "execution_count": 1,
      "metadata": {
        "id": "LHet0DT0wCgw"
      },
      "outputs": [],
      "source": [
        "import numpy as np"
      ]
    },
    {
      "cell_type": "code",
      "source": [
        "def solve_task_1(input_file_path):\n",
        "    vent_coordinates = read_input_file(input_file_path)\n",
        "    relevant_vent_coordinates = filter_horizontal_and_vertical_vents(vent_coordinates)\n",
        "    rasterized_map = rasterize_vents(relevant_vent_coordinates)\n",
        "    return np.sum(rasterized_map >= 2)\n",
        "\n",
        "def read_input_file(input_file_path):\n",
        "    coordinate_pairs = []\n",
        "    with open(input_file_path) as input_file:\n",
        "        for line in input_file:\n",
        "            first_pair_str, second_pair_str = line.strip().split(\"->\")\n",
        "            first_pair = [int(num) for num in first_pair_str.split(\",\")]\n",
        "            second_pair = [int(num) for num in second_pair_str.split(\",\")]\n",
        "            coordinate_pairs.append([first_pair, second_pair])\n",
        "    return np.array(coordinate_pairs)\n",
        "\n",
        "def filter_horizontal_and_vertical_vents(vent_coordinates):\n",
        "    first_coordinate_equals = vent_coordinates[:, 0, 0] == vent_coordinates[:, 1, 0]\n",
        "    second_coordinate_equals = vent_coordinates[:, 0, 1] == vent_coordinates[:, 1, 1]\n",
        "    return vent_coordinates[first_coordinate_equals | second_coordinate_equals]\n",
        "\n",
        "def rasterize_vents(vent_coordinates):\n",
        "    max_coordinate = vent_coordinates.max()\n",
        "    vent_map = np.zeros((max_coordinate+1, max_coordinate+1), dtype=np.int32)\n",
        "    for vent_coordinate_pair in vent_coordinates:\n",
        "        first_coordinate_interval = sorted([vent_coordinate_pair[1, 0], vent_coordinate_pair[0, 0]])\n",
        "        second_coordinate_interval = sorted([vent_coordinate_pair[1, 1], vent_coordinate_pair[0, 1]])\n",
        "\n",
        "        vent_map[first_coordinate_interval[0]: first_coordinate_interval[1] + 1,\n",
        "                 second_coordinate_interval[0]:second_coordinate_interval[1] + 1] += 1\n",
        "    return vent_map"
      ],
      "metadata": {
        "id": "lbS4ktHGwg98"
      },
      "execution_count": 103,
      "outputs": []
    },
    {
      "cell_type": "code",
      "source": [
        "solve_task_1(\"small_input.txt\")"
      ],
      "metadata": {
        "colab": {
          "base_uri": "https://localhost:8080/"
        },
        "id": "f2YWZOcIx0YL",
        "outputId": "2b57470e-ab11-4efb-b67c-d48566b31c16"
      },
      "execution_count": 104,
      "outputs": [
        {
          "output_type": "execute_result",
          "data": {
            "text/plain": [
              "5"
            ]
          },
          "metadata": {},
          "execution_count": 104
        }
      ]
    },
    {
      "cell_type": "code",
      "source": [
        "solve_task_1(\"input.txt\")"
      ],
      "metadata": {
        "colab": {
          "base_uri": "https://localhost:8080/"
        },
        "id": "NviEdQMax2XR",
        "outputId": "6c651392-82e4-4655-affa-48fa99921361"
      },
      "execution_count": 105,
      "outputs": [
        {
          "output_type": "execute_result",
          "data": {
            "text/plain": [
              "5169"
            ]
          },
          "metadata": {},
          "execution_count": 105
        }
      ]
    },
    {
      "cell_type": "code",
      "source": [
        "def solve_task_2(input_file_path):\n",
        "    vent_coordinates = read_input_file(input_file_path)\n",
        "    relevant_vent_coordinates = filter_horizontal_and_vertical_vents(vent_coordinates)\n",
        "    rasterized_map = rasterize_vents(relevant_vent_coordinates)\n",
        "    rasterized_map = rasterize_only_diagonal_vents(vent_coordinates, rasterized_map)\n",
        "    return np.sum(rasterized_map >= 2)\n",
        "\n",
        "def rasterize_only_diagonal_vents(vent_coordinates, rasterized_map):\n",
        "    for vent_coordinate_pair in vent_coordinates:\n",
        "        coordinate_diff_abs = np.abs(vent_coordinate_pair[0] - vent_coordinate_pair[1])\n",
        "        if coordinate_diff_abs[0] == coordinate_diff_abs[1]:\n",
        "            first_coordinate_interval = [vent_coordinate_pair[1, 0], vent_coordinate_pair[0, 0]]\n",
        "            first_coordinate_step = 1 if first_coordinate_interval[0] <= first_coordinate_interval[1] else -1\n",
        "            second_coordinate_interval = [vent_coordinate_pair[1, 1], vent_coordinate_pair[0, 1]]\n",
        "            second_coordinate_step = 1 if second_coordinate_interval[0] <= second_coordinate_interval[1] else -1\n",
        "            for x, y in zip(range(first_coordinate_interval[0], first_coordinate_interval[1] + first_coordinate_step, first_coordinate_step),\n",
        "                            range(second_coordinate_interval[0], second_coordinate_interval[1] + second_coordinate_step, second_coordinate_step)):\n",
        "                rasterized_map[x, y] += 1\n",
        "    return rasterized_map"
      ],
      "metadata": {
        "id": "O9lWsK1G4Ssp"
      },
      "execution_count": 108,
      "outputs": []
    },
    {
      "cell_type": "code",
      "source": [
        "solve_task_2(\"small_input.txt\")"
      ],
      "metadata": {
        "colab": {
          "base_uri": "https://localhost:8080/"
        },
        "id": "Q2_AroglGqLM",
        "outputId": "67ac3e40-ab8a-4a42-d6bf-86c4798d12ea"
      },
      "execution_count": 109,
      "outputs": [
        {
          "output_type": "execute_result",
          "data": {
            "text/plain": [
              "12"
            ]
          },
          "metadata": {},
          "execution_count": 109
        }
      ]
    },
    {
      "cell_type": "code",
      "source": [
        "solve_task_2(\"input.txt\")"
      ],
      "metadata": {
        "colab": {
          "base_uri": "https://localhost:8080/"
        },
        "id": "-pOt0s0MGsUl",
        "outputId": "fa73cf64-d988-4835-9995-0a82732e9214"
      },
      "execution_count": 111,
      "outputs": [
        {
          "output_type": "execute_result",
          "data": {
            "text/plain": [
              "22083"
            ]
          },
          "metadata": {},
          "execution_count": 111
        }
      ]
    },
    {
      "cell_type": "code",
      "source": [
        ""
      ],
      "metadata": {
        "id": "o_wKXIKmI9r_"
      },
      "execution_count": null,
      "outputs": []
    }
  ]
}