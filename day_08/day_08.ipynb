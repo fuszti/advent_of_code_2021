{
  "nbformat": 4,
  "nbformat_minor": 0,
  "metadata": {
    "colab": {
      "name": "aoc21_day_08.ipynb",
      "provenance": [],
      "authorship_tag": "ABX9TyPzeFaU2bYGovcAQDDrrrrY",
      "include_colab_link": true
    },
    "kernelspec": {
      "name": "python3",
      "display_name": "Python 3"
    },
    "language_info": {
      "name": "python"
    }
  },
  "cells": [
    {
      "cell_type": "markdown",
      "metadata": {
        "id": "view-in-github",
        "colab_type": "text"
      },
      "source": [
        "<a href=\"https://colab.research.google.com/github/fuszti/advent_of_code_2021/blob/main/day_08/day_08.ipynb\" target=\"_parent\"><img src=\"https://colab.research.google.com/assets/colab-badge.svg\" alt=\"Open In Colab\"/></a>"
      ]
    },
    {
      "cell_type": "code",
      "execution_count": 11,
      "metadata": {
        "id": "bQcExtf9rBM3"
      },
      "outputs": [],
      "source": [
        "def solve_task_1(input_file_path):\n",
        "    input_digits, output_digits = read_input_file(input_file_path)\n",
        "    required_outputs = [digit for outputs in output_digits for digit in outputs if len(digit) in [2, 3, 4, 7]]\n",
        "    return len(required_outputs)\n",
        "\n",
        "def read_input_file(input_file_path):\n",
        "    input_digits = []\n",
        "    output_digits = []\n",
        "    with open(input_file_path) as input_file:\n",
        "        for line in input_file:\n",
        "            input_str, output_str = line.strip().split(\"|\")\n",
        "            input_digits.append(input_str.strip().split(\" \"))\n",
        "            output_digits.append(output_str.strip().split(\" \"))\n",
        "    return input_digits, output_digits"
      ]
    },
    {
      "cell_type": "code",
      "source": [
        "solve_task_1(\"small_input.txt\")"
      ],
      "metadata": {
        "colab": {
          "base_uri": "https://localhost:8080/"
        },
        "id": "f3dm-rYEr1pL",
        "outputId": "5258f111-3f35-407f-b83f-9d94c73c3409"
      },
      "execution_count": 12,
      "outputs": [
        {
          "output_type": "execute_result",
          "data": {
            "text/plain": [
              "26"
            ]
          },
          "metadata": {},
          "execution_count": 12
        }
      ]
    },
    {
      "cell_type": "code",
      "source": [
        "solve_task_1(\"input.txt\")"
      ],
      "metadata": {
        "colab": {
          "base_uri": "https://localhost:8080/"
        },
        "id": "o0f4boBHr67c",
        "outputId": "8e70392b-5a67-4e5e-c9ef-ed6f437ccdb4"
      },
      "execution_count": 13,
      "outputs": [
        {
          "output_type": "execute_result",
          "data": {
            "text/plain": [
              "381"
            ]
          },
          "metadata": {},
          "execution_count": 13
        }
      ]
    },
    {
      "cell_type": "code",
      "source": [
        "from collections import Counter\n",
        "def solve_task_2(input_file_path):\n",
        "    encode_to_number = {\"abcefg\": 0, \"cf\": 1, \"acdeg\": 2, \"acdfg\": 3, \"bcdf\": 4,\n",
        "                    \"abdfg\": 5, \"abdefg\": 6, \"acf\": 7, \"abcdefg\": 8, \"abcdfg\": 9}\n",
        "    input_digits, output_digits = read_input_file(input_file_path)\n",
        "    result = 0\n",
        "    for curr_input_digits, curr_output_digits in zip(input_digits, output_digits):\n",
        "        char_map = break_codes(curr_input_digits)\n",
        "        result += sum([10 ** (3-idx) * encode_number(code, char_map, encode_to_number) for idx, code in enumerate(curr_output_digits)])\n",
        "    return result\n",
        "\n",
        "def break_codes(input_digits):\n",
        "    \"\"\" TODO docstring about the 0-9x'a'-'g' table\"\"\"\n",
        "    count_to_char = {6: \"b\", 4: \"e\", 9: \"f\"}\n",
        "    char_counter = Counter(\"\".join(input_digits))\n",
        "    special_digits = [digit for digit in input_digits if len(digit) in [2, 3, 4, 7]]\n",
        "    char_map = {}\n",
        "    for char, count in char_counter.items():\n",
        "        if count in count_to_char:\n",
        "            char_map[char] = count_to_char[count]\n",
        "    chars_8_count = [char for char in char_counter if char_counter[char] == 8]\n",
        "    chars_7_count = [char for char in char_counter if char_counter[char] == 7]\n",
        "    if len([digit for digit in special_digits if chars_8_count[0] in digit]) == 2:\n",
        "        char_map[chars_8_count[0]] = 'a'\n",
        "        char_map[chars_8_count[1]] = 'c'\n",
        "    else:\n",
        "        char_map[chars_8_count[0]] = 'c'\n",
        "        char_map[chars_8_count[1]] = 'a'\n",
        "    if len([digit for digit in special_digits if chars_7_count[0] in digit]) == 2:\n",
        "        char_map[chars_7_count[0]] = 'd'\n",
        "        char_map[chars_7_count[1]] = 'g'\n",
        "    else:\n",
        "        char_map[chars_7_count[0]] = 'g'\n",
        "        char_map[chars_7_count[1]] = 'd'\n",
        "    return char_map\n",
        "\n",
        "def encode_number(code, char_map, encode_to_number):\n",
        "    real_code = [char_map[char] for char in code]\n",
        "    ordered_real_code = \"\".join(sorted(real_code))\n",
        "    return encode_to_number[ordered_real_code]"
      ],
      "metadata": {
        "id": "H5uElgPvtYXe"
      },
      "execution_count": 49,
      "outputs": []
    },
    {
      "cell_type": "code",
      "source": [
        "solve_task_2(\"small_input.txt\")"
      ],
      "metadata": {
        "colab": {
          "base_uri": "https://localhost:8080/"
        },
        "id": "NjT_k0WX0OMB",
        "outputId": "a39b9074-3c08-45d6-dea4-cc6fa178c7dd"
      },
      "execution_count": 50,
      "outputs": [
        {
          "output_type": "execute_result",
          "data": {
            "text/plain": [
              "61229"
            ]
          },
          "metadata": {},
          "execution_count": 50
        }
      ]
    },
    {
      "cell_type": "code",
      "source": [
        "solve_task_2(\"input.txt\")"
      ],
      "metadata": {
        "colab": {
          "base_uri": "https://localhost:8080/"
        },
        "id": "UWv82YwQ0Q89",
        "outputId": "21b37c3c-380d-4542-9b37-c4b50ecd2b85"
      },
      "execution_count": 51,
      "outputs": [
        {
          "output_type": "execute_result",
          "data": {
            "text/plain": [
              "1023686"
            ]
          },
          "metadata": {},
          "execution_count": 51
        }
      ]
    },
    {
      "cell_type": "code",
      "source": [
        ""
      ],
      "metadata": {
        "id": "NR1O-eengkL5"
      },
      "execution_count": null,
      "outputs": []
    }
  ]
}